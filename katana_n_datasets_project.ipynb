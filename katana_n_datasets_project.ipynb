{
 "cells": [
  {
   "cell_type": "code",
   "execution_count": 1,
   "id": "4aae48be",
   "metadata": {},
   "outputs": [],
   "source": [
    "import pandas as pd\n",
    "import random"
   ]
  },
  {
   "cell_type": "code",
   "execution_count": 2,
   "id": "3a574eba",
   "metadata": {},
   "outputs": [],
   "source": [
    "df = pd.read_csv('df.csv')"
   ]
  },
  {
   "cell_type": "code",
   "execution_count": 3,
   "id": "f42f4451",
   "metadata": {},
   "outputs": [
    {
     "data": {
      "text/html": [
       "<div>\n",
       "<style scoped>\n",
       "    .dataframe tbody tr th:only-of-type {\n",
       "        vertical-align: middle;\n",
       "    }\n",
       "\n",
       "    .dataframe tbody tr th {\n",
       "        vertical-align: top;\n",
       "    }\n",
       "\n",
       "    .dataframe thead th {\n",
       "        text-align: right;\n",
       "    }\n",
       "</style>\n",
       "<table border=\"1\" class=\"dataframe\">\n",
       "  <thead>\n",
       "    <tr style=\"text-align: right;\">\n",
       "      <th></th>\n",
       "      <th>col1</th>\n",
       "      <th>col2</th>\n",
       "    </tr>\n",
       "  </thead>\n",
       "  <tbody>\n",
       "    <tr>\n",
       "      <th>0</th>\n",
       "      <td>18849</td>\n",
       "      <td>3660</td>\n",
       "    </tr>\n",
       "    <tr>\n",
       "      <th>1</th>\n",
       "      <td>477</td>\n",
       "      <td>9450</td>\n",
       "    </tr>\n",
       "    <tr>\n",
       "      <th>2</th>\n",
       "      <td>18758</td>\n",
       "      <td>12675</td>\n",
       "    </tr>\n",
       "    <tr>\n",
       "      <th>3</th>\n",
       "      <td>36079</td>\n",
       "      <td>13855</td>\n",
       "    </tr>\n",
       "    <tr>\n",
       "      <th>4</th>\n",
       "      <td>4058</td>\n",
       "      <td>27294</td>\n",
       "    </tr>\n",
       "    <tr>\n",
       "      <th>...</th>\n",
       "      <td>...</td>\n",
       "      <td>...</td>\n",
       "    </tr>\n",
       "    <tr>\n",
       "      <th>9262</th>\n",
       "      <td>23010</td>\n",
       "      <td>14840</td>\n",
       "    </tr>\n",
       "    <tr>\n",
       "      <th>9263</th>\n",
       "      <td>7572</td>\n",
       "      <td>16515</td>\n",
       "    </tr>\n",
       "    <tr>\n",
       "      <th>9264</th>\n",
       "      <td>22999</td>\n",
       "      <td>33043</td>\n",
       "    </tr>\n",
       "    <tr>\n",
       "      <th>9265</th>\n",
       "      <td>32014</td>\n",
       "      <td>39329</td>\n",
       "    </tr>\n",
       "    <tr>\n",
       "      <th>9266</th>\n",
       "      <td>7642</td>\n",
       "      <td>48439</td>\n",
       "    </tr>\n",
       "  </tbody>\n",
       "</table>\n",
       "<p>9267 rows × 2 columns</p>\n",
       "</div>"
      ],
      "text/plain": [
       "       col1   col2\n",
       "0     18849   3660\n",
       "1       477   9450\n",
       "2     18758  12675\n",
       "3     36079  13855\n",
       "4      4058  27294\n",
       "...     ...    ...\n",
       "9262  23010  14840\n",
       "9263   7572  16515\n",
       "9264  22999  33043\n",
       "9265  32014  39329\n",
       "9266   7642  48439\n",
       "\n",
       "[9267 rows x 2 columns]"
      ]
     },
     "execution_count": 3,
     "metadata": {},
     "output_type": "execute_result"
    }
   ],
   "source": [
    "df"
   ]
  },
  {
   "cell_type": "code",
   "execution_count": 4,
   "id": "23e6b8e5",
   "metadata": {},
   "outputs": [
    {
     "data": {
      "text/plain": [
       "'randomlist = []\\nfor i in range(1,len(df)):\\n    n = random.randint(1,len(df)+1)\\n    if n not in randomlist and len(randomlist) < 1000:\\n        randomlist.append(n)\\nprint(randomlist)'"
      ]
     },
     "execution_count": 4,
     "metadata": {},
     "output_type": "execute_result"
    }
   ],
   "source": [
    "'''randomlist = []\n",
    "for i in range(1,len(df)):\n",
    "    n = random.randint(1,len(df)+1)\n",
    "    if n not in randomlist and len(randomlist) < 1000:\n",
    "        randomlist.append(n)\n",
    "print(randomlist)'''"
   ]
  },
  {
   "cell_type": "code",
   "execution_count": 19,
   "id": "4749e43b",
   "metadata": {},
   "outputs": [],
   "source": [
    "n = 20\n",
    "\n",
    "# Function to generate n empty lists\n",
    "from itertools import repeat\n",
    "lists = [[] for i in repeat(None, n)]\n",
    "dataframes = [[] for j in repeat(None, n)]\n"
   ]
  },
  {
   "cell_type": "code",
   "execution_count": null,
   "id": "bc45b2ae",
   "metadata": {},
   "outputs": [],
   "source": []
  },
  {
   "cell_type": "code",
   "execution_count": 20,
   "id": "f2451990",
   "metadata": {},
   "outputs": [],
   "source": [
    "## selecting 1000 random indexes from given dataset\n",
    "for i in range(len(lists)):\n",
    "\n",
    "    for j in range(1,len(df)):\n",
    "        n = random.randint(1,len(df)+1)\n",
    "        if n not in lists[i] and len(lists[i]) < 1000:\n",
    "            lists[i].append(n)\n"
   ]
  },
  {
   "cell_type": "code",
   "execution_count": 21,
   "id": "17c96a8a",
   "metadata": {},
   "outputs": [],
   "source": [
    "for i in range(len(dataframes)):\n",
    "    dataframes[i] = df[df.index.isin(lists[i])]"
   ]
  },
  {
   "cell_type": "code",
   "execution_count": 22,
   "id": "9d3adf69",
   "metadata": {},
   "outputs": [
    {
     "data": {
      "text/plain": [
       "20"
      ]
     },
     "execution_count": 22,
     "metadata": {},
     "output_type": "execute_result"
    }
   ],
   "source": [
    "len(dataframes)"
   ]
  },
  {
   "cell_type": "code",
   "execution_count": 26,
   "id": "5f1f928f",
   "metadata": {},
   "outputs": [],
   "source": [
    "for i in range(1,len(dataframes)+1):\n",
    "    name = 'dataset' + ' - ' + str(i) + '.csv'\n",
    "    dataframes[i-1].to_csv(name, index=False)"
   ]
  },
  {
   "cell_type": "code",
   "execution_count": 24,
   "id": "34bf69d8",
   "metadata": {},
   "outputs": [
    {
     "data": {
      "text/plain": [
       "False"
      ]
     },
     "execution_count": 24,
     "metadata": {},
     "output_type": "execute_result"
    }
   ],
   "source": [
    "dataframes[2].equals(dataframes[1])"
   ]
  },
  {
   "cell_type": "code",
   "execution_count": null,
   "id": "8b831b16",
   "metadata": {},
   "outputs": [],
   "source": []
  },
  {
   "cell_type": "code",
   "execution_count": null,
   "id": "7780eef5",
   "metadata": {},
   "outputs": [],
   "source": []
  }
 ],
 "metadata": {
  "kernelspec": {
   "display_name": "Python 3 (ipykernel)",
   "language": "python",
   "name": "python3"
  },
  "language_info": {
   "codemirror_mode": {
    "name": "ipython",
    "version": 3
   },
   "file_extension": ".py",
   "mimetype": "text/x-python",
   "name": "python",
   "nbconvert_exporter": "python",
   "pygments_lexer": "ipython3",
   "version": "3.9.12"
  }
 },
 "nbformat": 4,
 "nbformat_minor": 5
}
